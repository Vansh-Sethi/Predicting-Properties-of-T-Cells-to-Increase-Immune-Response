{
  "nbformat": 4,
  "nbformat_minor": 0,
  "metadata": {
    "colab": {
      "name": "TCR Seq2Seq CDR3 Predictor",
      "provenance": [],
      "collapsed_sections": [],
      "toc_visible": true
    },
    "kernelspec": {
      "name": "python3",
      "display_name": "Python 3"
    },
    "accelerator": "TPU"
  },
  "cells": [
    {
      "cell_type": "markdown",
      "metadata": {
        "id": "yk90gwIdqHCV",
        "colab_type": "text"
      },
      "source": [
        "# Dependancies"
      ]
    },
    {
      "cell_type": "code",
      "metadata": {
        "id": "zuJnsCuUpz5u",
        "colab_type": "code",
        "colab": {}
      },
      "source": [
        "import tensorflow as tf\n",
        "\n",
        "import matplotlib.pyplot as plt\n",
        "import matplotlib.ticker as ticker\n",
        "from sklearn.model_selection import train_test_split\n",
        "from keras import *\n",
        "\n",
        "import numpy as np\n",
        "import pandas as pd"
      ],
      "execution_count": 0,
      "outputs": []
    },
    {
      "cell_type": "markdown",
      "metadata": {
        "colab_type": "text",
        "id": "LemCjz9CqR-M"
      },
      "source": [
        "# Data"
      ]
    },
    {
      "cell_type": "code",
      "metadata": {
        "id": "O1p43UHwqUwo",
        "colab_type": "code",
        "colab": {}
      },
      "source": [
        "path_to_data = \"/content/Full Database for TCRs.csv\""
      ],
      "execution_count": 0,
      "outputs": []
    },
    {
      "cell_type": "code",
      "metadata": {
        "id": "1tVftAIbq5mt",
        "colab_type": "code",
        "colab": {}
      },
      "source": [
        "data = pd.read_csv(path_to_data)\n",
        "data = data.dropna()\n",
        "data = data.reset_index(drop=True)\n",
        "\n",
        "data_epitope = data['Epitope'][:60001]\n",
        "data_v = data['V'][:60001]\n",
        "data_j = data['J'][:60001]\n",
        "data_cdr3 = data['CDR3'][:60001]"
      ],
      "execution_count": 0,
      "outputs": []
    },
    {
      "cell_type": "code",
      "metadata": {
        "id": "iCgHc-85rTV8",
        "colab_type": "code",
        "colab": {}
      },
      "source": [
        "MAX_LENGTH = 41\n",
        "def encoder_protien(data_frame, start=0):\n",
        "  ######################################################\n",
        "  #Encoding into Numbers\n",
        "  ######################################################\n",
        "\n",
        "  encoder_dict = {'+':1,'a':2,'b':3,'c':4,'d':5,'e':6,'f':7,'g':8,'h':9,'i':10,\n",
        "             'j':11,'k':12,'l':13,'m':14,'n':15,'o':16,'p':17,'q':18,'r':19,'s':20,\n",
        "             't':21,'u':22,'v':23,'w':24,'x':25,'y':26,'z':27,'-':28,'*':29,'1':30,\n",
        "             '2':31,'3':32,'4':33,'5':34,'6':35,'7':36,'8':37,'9':38,'0':39,'=':40}\n",
        "\n",
        "  output = []\n",
        "  max_length = 0\n",
        "\n",
        "  for sequence in data_frame:\n",
        "    a = len(sequence)\n",
        "    if (a > max_length):\n",
        "      max_length = a+2\n",
        "\n",
        "  for sequence in data_frame:\n",
        "    sequence_temp = []\n",
        "    \n",
        "    if (start == 0):\n",
        "      sequence = sequence + '='\n",
        "    elif (start == 1):\n",
        "      sequence = '=' + sequence\n",
        "    else:\n",
        "      sequence = sequence\n",
        "\n",
        "    for protien in sequence:\n",
        "      sequence_temp.append(encoder_dict[protien.lower()])\n",
        "\n",
        "    for i in range(max_length-len(sequence_temp)):\n",
        "      sequence_temp.append(0)\n",
        "\n",
        "    output.append(sequence_temp)\n",
        "\n",
        "  output = np.asarray(output)\n",
        "  \n",
        "  ######################################################\n",
        "  #Encoding into One Hot\n",
        "  ######################################################\n",
        "\n",
        "  one_hot_encoder_list = [0,1,2,3,4,5,6,7,8,9,10,11,12,13,14,15,16,\n",
        "                          17,18,19,20,21,22,23,24,25,26,27,28,29,30,\n",
        "                          31,32,33,34,35,36,37,38,39,40]\n",
        "  one_hot_encoder_list = np.asarray(one_hot_encoder_list)\n",
        "  b = np.zeros((one_hot_encoder_list.size, one_hot_encoder_list.max()+1))\n",
        "  b[np.arange(one_hot_encoder_list.size),one_hot_encoder_list] = 1\n",
        "  dict_for_oneHot = b.tolist()\n",
        "\n",
        "  real_output = []\n",
        "  for array in output:\n",
        "    one_item = []\n",
        "    for num in array:\n",
        "      current_one_hot = dict_for_oneHot[num]\n",
        "      one_item.append(current_one_hot)\n",
        "    real_output.append(one_item)\n",
        "\n",
        "  real_output = np.asarray(real_output)\n",
        "\n",
        "  return real_output"
      ],
      "execution_count": 0,
      "outputs": []
    },
    {
      "cell_type": "code",
      "metadata": {
        "id": "ATpwuDBRKnYk",
        "colab_type": "code",
        "colab": {}
      },
      "source": [
        "epitope_array = encoder_protien(data_epitope,start=0)\n",
        "cdr3_array_input = encoder_protien(data_cdr3, start=1)\n",
        "cdr3_array = encoder_protien(data_cdr3, start=2)"
      ],
      "execution_count": 0,
      "outputs": []
    },
    {
      "cell_type": "markdown",
      "metadata": {
        "id": "9dw1qGL0qWnr",
        "colab_type": "text"
      },
      "source": [
        "# Model / Training"
      ]
    },
    {
      "cell_type": "code",
      "metadata": {
        "id": "ElHg8cBIqaF6",
        "colab_type": "code",
        "colab": {}
      },
      "source": [
        "from keras.models import *\n",
        "from keras.layers import *\n",
        "\n",
        "num_encoder_tokens = 41\n",
        "num_decoder_tokens = 41\n",
        "latent_dimension = 40\n",
        "# Define an input sequence and process it.\n",
        "encoder_inputs = Input(shape=(None, num_encoder_tokens))\n",
        "encoder = LSTM(latent_dimension, return_state=True)\n",
        "encoder_outputs, state_h, state_c = encoder(encoder_inputs)\n",
        "\n",
        "encoder_states = [state_h, state_c]\n",
        "\n",
        "decoder_inputs = Input(shape=(None, num_decoder_tokens))\n",
        "\n",
        "decoder_lstm = LSTM(latent_dimension, return_sequences=True, return_state=True)\n",
        "decoder_outputs, _, _ = decoder_lstm(decoder_inputs, initial_state=encoder_states)\n",
        "decoder_dense = Dense(num_decoder_tokens, activation='softmax')\n",
        "decoder_outputs = decoder_dense(decoder_outputs)\n",
        "\n",
        "model = Model([encoder_inputs, decoder_inputs], decoder_outputs)"
      ],
      "execution_count": 0,
      "outputs": []
    },
    {
      "cell_type": "code",
      "metadata": {
        "id": "D-nbcdnP_Faw",
        "colab_type": "code",
        "outputId": "08efd98a-4d44-479c-c4b8-e28f1d43ce33",
        "colab": {
          "base_uri": "https://localhost:8080/",
          "height": 357
        }
      },
      "source": [
        "model.summary()"
      ],
      "execution_count": 0,
      "outputs": [
        {
          "output_type": "stream",
          "text": [
            "Model: \"model_8\"\n",
            "__________________________________________________________________________________________________\n",
            "Layer (type)                    Output Shape         Param #     Connected to                     \n",
            "==================================================================================================\n",
            "input_13 (InputLayer)           (None, None, 41)     0                                            \n",
            "__________________________________________________________________________________________________\n",
            "input_14 (InputLayer)           (None, None, 41)     0                                            \n",
            "__________________________________________________________________________________________________\n",
            "lstm_9 (LSTM)                   [(None, 40), (None,  13120       input_13[0][0]                   \n",
            "__________________________________________________________________________________________________\n",
            "lstm_10 (LSTM)                  [(None, None, 40), ( 13120       input_14[0][0]                   \n",
            "                                                                 lstm_9[0][1]                     \n",
            "                                                                 lstm_9[0][2]                     \n",
            "__________________________________________________________________________________________________\n",
            "dense_4 (Dense)                 (None, None, 41)     1681        lstm_10[0][0]                    \n",
            "==================================================================================================\n",
            "Total params: 27,921\n",
            "Trainable params: 27,921\n",
            "Non-trainable params: 0\n",
            "__________________________________________________________________________________________________\n"
          ],
          "name": "stdout"
        }
      ]
    },
    {
      "cell_type": "code",
      "metadata": {
        "id": "QRVJQoHM_cl0",
        "colab_type": "code",
        "colab": {}
      },
      "source": [
        "model.compile(optimizer='adam', loss='categorical_crossentropy',\n",
        "              metrics=['accuracy'])"
      ],
      "execution_count": 0,
      "outputs": []
    },
    {
      "cell_type": "code",
      "metadata": {
        "id": "NSFCgA5o_dxS",
        "colab_type": "code",
        "outputId": "f4ed6a5f-9952-4d81-ec7a-1fd70d087a24",
        "colab": {
          "base_uri": "https://localhost:8080/",
          "height": 714
        }
      },
      "source": [
        "history = model.fit([epitope_array, cdr3_array_input], cdr3_array,\n",
        "          epochs=20,\n",
        "          validation_split=0.2, shuffle=True)"
      ],
      "execution_count": 0,
      "outputs": [
        {
          "output_type": "stream",
          "text": [
            "Train on 48000 samples, validate on 12001 samples\n",
            "Epoch 1/20\n",
            "48000/48000 [==============================] - 70s 1ms/step - loss: 0.7519 - acc: 0.7964 - val_loss: 0.8407 - val_acc: 0.7675\n",
            "Epoch 2/20\n",
            "48000/48000 [==============================] - 67s 1ms/step - loss: 0.5643 - acc: 0.8354 - val_loss: 0.8031 - val_acc: 0.7785\n",
            "Epoch 3/20\n",
            "48000/48000 [==============================] - 71s 1ms/step - loss: 0.5348 - acc: 0.8449 - val_loss: 0.7516 - val_acc: 0.7867\n",
            "Epoch 4/20\n",
            "48000/48000 [==============================] - 70s 1ms/step - loss: 0.5188 - acc: 0.8493 - val_loss: 0.7049 - val_acc: 0.7985\n",
            "Epoch 5/20\n",
            "48000/48000 [==============================] - 69s 1ms/step - loss: 0.5078 - acc: 0.8521 - val_loss: 0.6773 - val_acc: 0.8053\n",
            "Epoch 6/20\n",
            "48000/48000 [==============================] - 69s 1ms/step - loss: 0.4997 - acc: 0.8544 - val_loss: 0.6578 - val_acc: 0.8116\n",
            "Epoch 7/20\n",
            "48000/48000 [==============================] - 73s 2ms/step - loss: 0.4932 - acc: 0.8565 - val_loss: 0.6338 - val_acc: 0.8183\n",
            "Epoch 8/20\n",
            "48000/48000 [==============================] - 72s 2ms/step - loss: 0.4882 - acc: 0.8579 - val_loss: 0.6208 - val_acc: 0.8232\n",
            "Epoch 9/20\n",
            "48000/48000 [==============================] - 72s 1ms/step - loss: 0.4844 - acc: 0.8591 - val_loss: 0.6157 - val_acc: 0.8267\n",
            "Epoch 10/20\n",
            "48000/48000 [==============================] - 70s 1ms/step - loss: 0.4812 - acc: 0.8601 - val_loss: 0.5946 - val_acc: 0.8309\n",
            "Epoch 11/20\n",
            "48000/48000 [==============================] - 69s 1ms/step - loss: 0.4785 - acc: 0.8608 - val_loss: 0.5849 - val_acc: 0.8332\n",
            "Epoch 12/20\n",
            "48000/48000 [==============================] - 70s 1ms/step - loss: 0.4763 - acc: 0.8615 - val_loss: 0.5866 - val_acc: 0.8369\n",
            "Epoch 13/20\n",
            "48000/48000 [==============================] - 70s 1ms/step - loss: 0.4743 - acc: 0.8620 - val_loss: 0.5759 - val_acc: 0.8374\n",
            "Epoch 14/20\n",
            "48000/48000 [==============================] - 69s 1ms/step - loss: 0.4725 - acc: 0.8624 - val_loss: 0.5723 - val_acc: 0.8393\n",
            "Epoch 15/20\n",
            "48000/48000 [==============================] - 70s 1ms/step - loss: 0.4709 - acc: 0.8628 - val_loss: 0.5667 - val_acc: 0.8418\n",
            "Epoch 16/20\n",
            "48000/48000 [==============================] - 73s 2ms/step - loss: 0.4694 - acc: 0.8633 - val_loss: 0.5647 - val_acc: 0.8414\n",
            "Epoch 17/20\n",
            "48000/48000 [==============================] - 71s 1ms/step - loss: 0.4680 - acc: 0.8635 - val_loss: 0.5597 - val_acc: 0.8439\n",
            "Epoch 18/20\n",
            "48000/48000 [==============================] - 69s 1ms/step - loss: 0.4669 - acc: 0.8640 - val_loss: 0.5646 - val_acc: 0.8425\n",
            "Epoch 19/20\n",
            "48000/48000 [==============================] - 73s 2ms/step - loss: 0.4658 - acc: 0.8642 - val_loss: 0.5457 - val_acc: 0.8462\n",
            "Epoch 20/20\n",
            "48000/48000 [==============================] - 78s 2ms/step - loss: 0.4649 - acc: 0.8645 - val_loss: 0.5512 - val_acc: 0.8448\n"
          ],
          "name": "stdout"
        }
      ]
    },
    {
      "cell_type": "code",
      "metadata": {
        "id": "LfVdIIiy3BlL",
        "colab_type": "code",
        "colab": {}
      },
      "source": [
        "model.save('/content/encoder_model2.hdf5')"
      ],
      "execution_count": 0,
      "outputs": []
    },
    {
      "cell_type": "markdown",
      "metadata": {
        "colab_type": "text",
        "id": "2muQrjWSyebE"
      },
      "source": [
        "# Prediction and Visualization"
      ]
    },
    {
      "cell_type": "code",
      "metadata": {
        "id": "D9wkBGwM62iq",
        "colab_type": "code",
        "colab": {}
      },
      "source": [
        "encoder_model = Model(encoder_inputs, encoder_states)"
      ],
      "execution_count": 0,
      "outputs": []
    },
    {
      "cell_type": "code",
      "metadata": {
        "id": "1Ol470N4I2oT",
        "colab_type": "code",
        "colab": {}
      },
      "source": [
        "decoder_state_input_h = Input(shape=(latent_dimension,))\n",
        "decoder_state_input_c = Input(shape=(latent_dimension,))\n",
        "decoder_states_inputs = [decoder_state_input_h, decoder_state_input_c]\n",
        "decoder_outputs, state_h, state_c = decoder_lstm(\n",
        "    decoder_inputs, initial_state=decoder_states_inputs)\n",
        "decoder_states = [state_h, state_c]\n",
        "decoder_outputs = decoder_dense(decoder_outputs)\n",
        "decoder_model = Model(\n",
        "    [decoder_inputs] + decoder_states_inputs,\n",
        "    [decoder_outputs] + decoder_states)"
      ],
      "execution_count": 0,
      "outputs": []
    },
    {
      "cell_type": "code",
      "metadata": {
        "id": "0qrYMJmbh-v5",
        "colab_type": "code",
        "colab": {}
      },
      "source": [
        "def predictor(input_seq):\n",
        "  states_value = encoder_model.predict(input_seq.reshape(1,input_seq.shape[0],input_seq.shape[1]))\n",
        "  target_seq = np.zeros((1, 1, num_decoder_tokens))\n",
        "  target_seq[0, 0, 0] = 1\n",
        "\n",
        "  decoded_list = []\n",
        "  condition = True\n",
        "  while (condition):\n",
        "    output_tokens, h, c = decoder_model.predict([target_seq] + states_value)\n",
        "    sampled_token_index = np.argmax(output_tokens[0, -1, :])\n",
        "    decoded_list.append(sampled_token_index)\n",
        "\n",
        "    if (sampled_token_index == 41 or len(decoded_list) == 44):\n",
        "      condition = False\n",
        "    \n",
        "    target_seq = np.zeros((1,1, num_decoder_tokens))\n",
        "    target_seq[0,0,sampled_token_index] = 1\n",
        "\n",
        "    states_value = [h,c]\n",
        "  \n",
        "  encoder_dict = {'+':1,'a':2,'b':3,'c':4,'d':5,'e':6,'f':7,'g':8,'h':9,'i':10,\n",
        "             'j':11,'k':12,'l':13,'m':14,'n':15,'o':16,'p':17,'q':18,'r':19,'s':20,\n",
        "             't':21,'u':22,'v':23,'w':24,'x':25,'y':26,'z':27,'-':28,'*':29,'1':30,\n",
        "             '2':31,'3':32,'4':33,'5':34,'6':35,'7':36,'8':37,'9':38,'0':39,'=':40}\n",
        "  inverse_dict = {v: k for k, v in encoder_dict.items()}\n",
        "  output = ''\n",
        "  for i in decoded_list:\n",
        "    if (i == 0):\n",
        "      continue\n",
        "    output += inverse_dict[i]\n",
        "  return output.upper()\n"
      ],
      "execution_count": 0,
      "outputs": []
    },
    {
      "cell_type": "code",
      "metadata": {
        "id": "ENRY59bR5nsE",
        "colab_type": "code",
        "outputId": "1d31c369-46c7-4805-9a68-69690729f65b",
        "colab": {
          "base_uri": "https://localhost:8080/",
          "height": 295
        }
      },
      "source": [
        "plt.plot(history.history['loss'], label='Loss (testing data)')\n",
        "plt.plot(history.history['val_loss'], label='Loss (validation data)')\n",
        "plt.title('Loss for T-Cell CDR3 Prediction Model')\n",
        "plt.ylabel('Loss value')\n",
        "plt.xlabel('No. epoch')\n",
        "plt.legend(loc=\"upper left\")\n",
        "plt.show()"
      ],
      "execution_count": 0,
      "outputs": [
        {
          "output_type": "display_data",
          "data": {
            "image/png": "[encoded data removed]",
            "text/plain": [
              "<Figure size 432x288 with 1 Axes>"
            ]
          },
          "metadata": {
            "tags": []
          }
        }
      ]
    },
    {
      "cell_type": "code",
      "metadata": {
        "id": "GiPH7HuHM5kH",
        "colab_type": "code",
        "outputId": "eb21f0da-df5d-415d-f162-20532f348aa7",
        "colab": {
          "base_uri": "https://localhost:8080/",
          "height": 295
        }
      },
      "source": [
        "plt.plot(history.history['acc'], label='Accuracy (testing data)')\n",
        "plt.plot(history.history['val_acc'], label='Accuracy (validation data)')\n",
        "plt.title('Accuracy for T-Cell CDR3 Prediction Model')\n",
        "plt.ylabel('Accuracy value')\n",
        "plt.xlabel('No. epoch')\n",
        "plt.legend(loc=\"upper left\")\n",
        "plt.show()"
      ],
      "execution_count": 0,
      "outputs": [
        {
          "output_type": "display_data",
          "data": {
            "image/png": "[encoded data removed]",
            "text/plain": [
              "<Figure size 432x288 with 1 Axes>"
            ]
          },
          "metadata": {
            "tags": []
          }
        }
      ]
    }
  ]
}