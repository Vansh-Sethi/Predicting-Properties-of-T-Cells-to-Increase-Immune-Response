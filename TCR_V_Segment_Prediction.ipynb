{
  "nbformat": 4,
  "nbformat_minor": 0,
  "metadata": {
    "colab": {
      "name": "TCR_V_Segment_Prediction",
      "provenance": [],
      "collapsed_sections": [],
      "toc_visible": true
    },
    "kernelspec": {
      "name": "python3",
      "display_name": "Python 3"
    },
    "accelerator": "GPU"
  },
  "cells": [
    {
      "cell_type": "markdown",
      "metadata": {
        "id": "yk90gwIdqHCV",
        "colab_type": "text"
      },
      "source": [
        "# Dependancies"
      ]
    },
    {
      "cell_type": "code",
      "metadata": {
        "id": "zuJnsCuUpz5u",
        "colab_type": "code",
        "outputId": "2440d0ff-9378-46fb-ff44-156524d10930",
        "colab": {
          "base_uri": "https://localhost:8080/",
          "height": 80
        }
      },
      "source": [
        "import tensorflow as tf\n",
        "\n",
        "import matplotlib.pyplot as plt\n",
        "import matplotlib.ticker as ticker\n",
        "from sklearn.model_selection import train_test_split\n",
        "from keras import *\n",
        "\n",
        "import numpy as np\n",
        "import pandas as pd"
      ],
      "execution_count": 1,
      "outputs": [
        {
          "output_type": "display_data",
          "data": {
            "text/html": [
              "<p style=\"color: red;\">\n",
              "The default version of TensorFlow in Colab will switch to TensorFlow 2.x on the 27th of March, 2020.<br>\n",
              "We recommend you <a href=\"https://www.tensorflow.org/guide/migrate\" target=\"_blank\">upgrade</a> now\n",
              "or ensure your notebook will continue to use TensorFlow 1.x via the <code>%tensorflow_version 1.x</code> magic:\n",
              "<a href=\"https://colab.research.google.com/notebooks/tensorflow_version.ipynb\" target=\"_blank\">more info</a>.</p>\n"
            ],
            "text/plain": [
              "<IPython.core.display.HTML object>"
            ]
          },
          "metadata": {
            "tags": []
          }
        },
        {
          "output_type": "stream",
          "text": [
            "Using TensorFlow backend.\n"
          ],
          "name": "stderr"
        }
      ]
    },
    {
      "cell_type": "markdown",
      "metadata": {
        "colab_type": "text",
        "id": "LemCjz9CqR-M"
      },
      "source": [
        "# Data"
      ]
    },
    {
      "cell_type": "code",
      "metadata": {
        "id": "O1p43UHwqUwo",
        "colab_type": "code",
        "colab": {}
      },
      "source": [
        "path_to_data = \"/content/Full Database for TCRs.csv\""
      ],
      "execution_count": 0,
      "outputs": []
    },
    {
      "cell_type": "code",
      "metadata": {
        "id": "1tVftAIbq5mt",
        "colab_type": "code",
        "colab": {}
      },
      "source": [
        "data = pd.read_csv(path_to_data)\n",
        "data = data.dropna()\n",
        "data = data.reset_index(drop=True)\n",
        "\n",
        "data_epitope = data['Epitope'][:50001]\n",
        "data_v = data['V'][:50001]\n",
        "data_j = data['J'][:50001]\n",
        "data_cdr3 = data['CDR3'][:50001]"
      ],
      "execution_count": 0,
      "outputs": []
    },
    {
      "cell_type": "code",
      "metadata": {
        "id": "e_xaxciTvv_F",
        "colab_type": "code",
        "colab": {}
      },
      "source": [
        "def encoder_protien(data_frame):\n",
        "  encoder_dict = {'a':2,'b':3,'c':4,'d':5,'e':6,'f':7,'g':8,'h':9,'i':10,\n",
        "             'j':11,'k':12,'l':13,'m':14,'n':15,'o':16,'p':17,'q':18,'r':19,'s':20,\n",
        "             't':21,'u':22,'v':23,'w':24,'x':25,'y':26,'z':27,'=':28}\n",
        "\n",
        "  output = []\n",
        "  max_length = 0\n",
        "\n",
        "  for sequence in data_frame:\n",
        "    a = len(sequence)\n",
        "    if (a > max_length):\n",
        "      max_length = a+2\n",
        "\n",
        "  for sequence in data_frame:\n",
        "    sequence_temp = []\n",
        "\n",
        "    for protien in sequence:\n",
        "      sequence_temp.append(encoder_dict[protien.lower()])\n",
        "\n",
        "    for i in range(max_length-len(sequence_temp)):\n",
        "      sequence_temp.append(0)\n",
        "\n",
        "    output.append(sequence_temp)\n",
        "\n",
        "  output = np.asarray(output)\n",
        "  return output"
      ],
      "execution_count": 0,
      "outputs": []
    },
    {
      "cell_type": "code",
      "metadata": {
        "id": "2Jmi_hHuAoga",
        "colab_type": "code",
        "colab": {}
      },
      "source": [
        "from keras.utils import to_categorical\n",
        "unique_v = list(data_v.unique())\n",
        "\n",
        "Y_Train = []\n",
        "\n",
        "for i in data_v:\n",
        "  temp = []\n",
        "  Y_Train.append(unique_v.index(i))\n",
        "\n",
        "Y_Train = to_categorical(Y_Train)\n",
        "\n",
        "Y_Train = np.asarray(Y_Train)\n",
        "X_Train = encoder_protien(data_epitope)"
      ],
      "execution_count": 0,
      "outputs": []
    },
    {
      "cell_type": "code",
      "metadata": {
        "id": "5JyrJCzXCY8w",
        "colab_type": "code",
        "colab": {
          "base_uri": "https://localhost:8080/",
          "height": 139
        },
        "outputId": "12942bcd-6ee3-4cd6-c86f-972cf98ec486"
      },
      "source": [
        "Input_Layer = tf.keras.layers.Input(shape=(22))\n",
        "\n",
        "Embedding_Layer = tf.keras.layers.Embedding(22,128)(Input_Layer)\n",
        "LSTM1 = tf.keras.layers.LSTM(128)(Embedding_Layer)\n",
        "\n",
        "Dense0 = tf.keras.layers.Dense(5000,activation='relu')(LSTM1)\n",
        "Dense1 = tf.keras.layers.Dense(5000,activation='relu')(Dense0)\n",
        "Dense2 = tf.keras.layers.Dense(5000,activation='relu')(Dense1)\n",
        "Dense3 = tf.keras.layers.Dense(2500,activation='relu')(Dense2)\n",
        "Dense4 = tf.keras.layers.Dense(500,activation='relu')(Dense3) \n",
        "\n",
        "Dense5 = tf.keras.layers.Dense(126,activation='softmax')(Dense4)\n",
        "model = tf.keras.Model(inputs=Input_Layer,outputs=Dense5)"
      ],
      "execution_count": 7,
      "outputs": [
        {
          "output_type": "stream",
          "text": [
            "WARNING:tensorflow:From /tensorflow-1.15.2/python3.6/tensorflow_core/python/keras/initializers.py:119: calling RandomUniform.__init__ (from tensorflow.python.ops.init_ops) with dtype is deprecated and will be removed in a future version.\n",
            "Instructions for updating:\n",
            "Call initializer instance with the dtype argument instead of passing it to the constructor\n",
            "WARNING:tensorflow:From /tensorflow-1.15.2/python3.6/tensorflow_core/python/ops/resource_variable_ops.py:1630: calling BaseResourceVariable.__init__ (from tensorflow.python.ops.resource_variable_ops) with constraint is deprecated and will be removed in a future version.\n",
            "Instructions for updating:\n",
            "If using Keras pass *_constraint arguments to layers.\n"
          ],
          "name": "stdout"
        }
      ]
    },
    {
      "cell_type": "code",
      "metadata": {
        "id": "UCJ0crx6ZhYA",
        "colab_type": "code",
        "colab": {}
      },
      "source": [
        "model.compile(optimizer='adam',loss='categorical_crossentropy',metrics=['accuracy'])\n",
        "saved = tf.keras.callbacks.ModelCheckpoint(\"/content/TCR_Normal_Model.hdf5\", monitor='val_loss', verbose=0, save_best_only=True, save_weights_only=False, mode='auto')"
      ],
      "execution_count": 0,
      "outputs": []
    },
    {
      "cell_type": "code",
      "metadata": {
        "id": "5qNs2odwZmHA",
        "colab_type": "code",
        "outputId": "2136a523-b6e9-42df-caa3-8deb7c59d4ea",
        "colab": {
          "base_uri": "https://localhost:8080/",
          "height": 1000
        }
      },
      "source": [
        "history = model.fit(X_Train,Y_Train,epochs=30,validation_split=0.2,shuffle=True,callbacks=[saved])"
      ],
      "execution_count": 10,
      "outputs": [
        {
          "output_type": "stream",
          "text": [
            "Train on 40000 samples, validate on 10001 samples\n",
            "Epoch 1/30\n",
            "40000/40000 [==============================] - 65s 2ms/sample - loss: 3.3440 - acc: 0.1506 - val_loss: 9.9843 - val_acc: 0.0458\n",
            "Epoch 2/30\n",
            "40000/40000 [==============================] - 62s 2ms/sample - loss: 3.3262 - acc: 0.1500 - val_loss: 10.1450 - val_acc: 0.0163\n",
            "Epoch 3/30\n",
            "40000/40000 [==============================] - 62s 2ms/sample - loss: 3.3153 - acc: 0.1542 - val_loss: 10.4081 - val_acc: 0.0162\n",
            "Epoch 4/30\n",
            "40000/40000 [==============================] - 63s 2ms/sample - loss: 3.2798 - acc: 0.1620 - val_loss: 11.9749 - val_acc: 0.0432\n",
            "Epoch 5/30\n",
            "40000/40000 [==============================] - 62s 2ms/sample - loss: 3.2825 - acc: 0.1633 - val_loss: 12.7016 - val_acc: 0.0131\n",
            "Epoch 6/30\n",
            "40000/40000 [==============================] - 62s 2ms/sample - loss: 3.2706 - acc: 0.1619 - val_loss: 12.4624 - val_acc: 0.0174\n",
            "Epoch 7/30\n",
            "40000/40000 [==============================] - 62s 2ms/sample - loss: 3.2701 - acc: 0.1637 - val_loss: 12.9375 - val_acc: 0.0449\n",
            "Epoch 8/30\n",
            "40000/40000 [==============================] - 62s 2ms/sample - loss: 3.2465 - acc: 0.1655 - val_loss: 13.4084 - val_acc: 0.0434\n",
            "Epoch 9/30\n",
            "40000/40000 [==============================] - 62s 2ms/sample - loss: 3.2333 - acc: 0.1656 - val_loss: 14.5921 - val_acc: 0.0316\n",
            "Epoch 10/30\n",
            "40000/40000 [==============================] - 62s 2ms/sample - loss: 3.2195 - acc: 0.1696 - val_loss: 13.8091 - val_acc: 0.0608\n",
            "Epoch 11/30\n",
            "40000/40000 [==============================] - 62s 2ms/sample - loss: 3.2036 - acc: 0.1736 - val_loss: 13.7029 - val_acc: 0.0615\n",
            "Epoch 12/30\n",
            "40000/40000 [==============================] - 62s 2ms/sample - loss: 3.1993 - acc: 0.1738 - val_loss: 15.1918 - val_acc: 0.0457\n",
            "Epoch 13/30\n",
            "40000/40000 [==============================] - 61s 2ms/sample - loss: 3.1937 - acc: 0.1735 - val_loss: 14.4252 - val_acc: 0.0604\n",
            "Epoch 14/30\n",
            "40000/40000 [==============================] - 63s 2ms/sample - loss: 3.1844 - acc: 0.1777 - val_loss: 14.3536 - val_acc: 0.0520\n",
            "Epoch 15/30\n",
            "40000/40000 [==============================] - 62s 2ms/sample - loss: 3.1662 - acc: 0.1849 - val_loss: 15.1053 - val_acc: 0.0516\n",
            "Epoch 16/30\n",
            "40000/40000 [==============================] - 62s 2ms/sample - loss: 3.1664 - acc: 0.1856 - val_loss: 15.4039 - val_acc: 0.0487\n",
            "Epoch 17/30\n",
            "40000/40000 [==============================] - 62s 2ms/sample - loss: 3.1608 - acc: 0.1879 - val_loss: 14.9881 - val_acc: 0.0634\n",
            "Epoch 18/30\n",
            "40000/40000 [==============================] - 62s 2ms/sample - loss: 3.1503 - acc: 0.1906 - val_loss: 14.6703 - val_acc: 0.0501\n",
            "Epoch 19/30\n",
            "40000/40000 [==============================] - 62s 2ms/sample - loss: 3.1545 - acc: 0.1890 - val_loss: 15.2191 - val_acc: 0.0642\n",
            "Epoch 20/30\n",
            "40000/40000 [==============================] - 63s 2ms/sample - loss: 3.1432 - acc: 0.1918 - val_loss: 14.9398 - val_acc: 0.0611\n",
            "Epoch 21/30\n",
            "40000/40000 [==============================] - 62s 2ms/sample - loss: 3.1396 - acc: 0.1913 - val_loss: 15.4411 - val_acc: 0.0624\n",
            "Epoch 22/30\n",
            "40000/40000 [==============================] - 62s 2ms/sample - loss: 3.1356 - acc: 0.1939 - val_loss: 15.1813 - val_acc: 0.0611\n",
            "Epoch 23/30\n",
            "40000/40000 [==============================] - 62s 2ms/sample - loss: 3.1297 - acc: 0.1956 - val_loss: 14.1939 - val_acc: 0.0617\n",
            "Epoch 24/30\n",
            "40000/40000 [==============================] - 62s 2ms/sample - loss: 3.1284 - acc: 0.1983 - val_loss: 14.7476 - val_acc: 0.0604\n",
            "Epoch 25/30\n",
            "40000/40000 [==============================] - 62s 2ms/sample - loss: 3.1213 - acc: 0.1979 - val_loss: 15.2471 - val_acc: 0.0623\n",
            "Epoch 26/30\n",
            "40000/40000 [==============================] - 61s 2ms/sample - loss: 3.1135 - acc: 0.1984 - val_loss: 14.3475 - val_acc: 0.0613\n",
            "Epoch 27/30\n",
            "40000/40000 [==============================] - 62s 2ms/sample - loss: 3.1168 - acc: 0.1985 - val_loss: 14.8302 - val_acc: 0.0463\n",
            "Epoch 28/30\n",
            "40000/40000 [==============================] - 62s 2ms/sample - loss: 3.1105 - acc: 0.1998 - val_loss: 14.9952 - val_acc: 0.0349\n",
            "Epoch 29/30\n",
            "40000/40000 [==============================] - 62s 2ms/sample - loss: 3.1046 - acc: 0.2005 - val_loss: 15.0715 - val_acc: 0.0498\n",
            "Epoch 30/30\n",
            "40000/40000 [==============================] - 62s 2ms/sample - loss: 3.1023 - acc: 0.2017 - val_loss: 15.2306 - val_acc: 0.0609\n"
          ],
          "name": "stdout"
        }
      ]
    },
    {
      "cell_type": "code",
      "metadata": {
        "id": "XY1FBHSYE44V",
        "colab_type": "code",
        "colab": {}
      },
      "source": [
        "model.save('/content/TCR_Model_Normal.hdf5')"
      ],
      "execution_count": 0,
      "outputs": []
    },
    {
      "cell_type": "code",
      "metadata": {
        "id": "38rgg2O1w3oq",
        "colab_type": "code",
        "colab": {}
      },
      "source": [
        "rand = np.random.randint(0,50001)\n",
        "a = model.predict(X_Train[rand].reshape(1,22))\n",
        "a = np.argmax(a)\n",
        "b = np.argmax(Y_Train[rand])\n",
        "\n",
        "print(a)\n",
        "print(b)"
      ],
      "execution_count": 0,
      "outputs": []
    },
    {
      "cell_type": "markdown",
      "metadata": {
        "colab_type": "text",
        "id": "ZM-SEBlO55bJ"
      },
      "source": [
        "# Visualization"
      ]
    },
    {
      "cell_type": "code",
      "metadata": {
        "id": "4nq4bpkXSUWD",
        "colab_type": "code",
        "colab": {
          "base_uri": "https://localhost:8080/",
          "height": 295
        },
        "outputId": "88b6ad9b-781e-40b7-825e-df2c37fb22ad"
      },
      "source": [
        "plt.plot(history.history['loss'], label='Loss (testing data)')\n",
        "plt.plot(history.history['val_loss'], label='Loss (validation data)')\n",
        "plt.title('Loss for T-Cell CDR3 Prediction Model')\n",
        "plt.ylabel('Loss value')\n",
        "plt.xlabel('No. epoch')\n",
        "plt.legend(loc=\"upper left\")\n",
        "plt.show()"
      ],
      "execution_count": 11,
      "outputs": [
        {
          "output_type": "display_data",
          "data": {
            "image/png": "[encoded data removed]",
            "text/plain": [
              "<Figure size 432x288 with 1 Axes>"
            ]
          },
          "metadata": {
            "tags": []
          }
        }
      ]
    },
    {
      "cell_type": "code",
      "metadata": {
        "id": "-Ehy3wAZSZ_R",
        "colab_type": "code",
        "colab": {
          "base_uri": "https://localhost:8080/",
          "height": 295
        },
        "outputId": "b77efc40-4722-4ce5-9e1b-549690654ded"
      },
      "source": [
        "plt.plot(history.history['acc'], label='Accuracy (testing data)')\n",
        "plt.plot(history.history['val_acc'], label='Accuracy (validation data)')\n",
        "plt.title('Accuracy for T-Cell CDR3 Prediction Model')\n",
        "plt.ylabel('Accuracy value')\n",
        "plt.xlabel('No. epoch')\n",
        "plt.legend(loc=\"upper left\")\n",
        "plt.show()"
      ],
      "execution_count": 12,
      "outputs": [
        {
          "output_type": "display_data",
          "data": {
            "image/png": "[encoded data removed]",
            "text/plain": [
              "<Figure size 432x288 with 1 Axes>"
            ]
          },
          "metadata": {
            "tags": []
          }
        }
      ]
    }
  ]
}